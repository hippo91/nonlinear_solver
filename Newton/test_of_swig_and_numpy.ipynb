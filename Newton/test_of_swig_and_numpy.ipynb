{
 "metadata": {
  "name": "",
  "signature": "sha256:e747804b38494722b6ee491994b5de4d09e6bba510a0f89e76e0bfa35a9a3980"
 },
 "nbformat": 3,
 "nbformat_minor": 0,
 "worksheets": [
  {
   "cells": [
    {
     "cell_type": "heading",
     "level": 1,
     "metadata": {},
     "source": [
      "Use of swig and numpy to compute the evolution of internal energy in a vNR scheme"
     ]
    },
    {
     "cell_type": "code",
     "collapsed": false,
     "input": [
      "import os"
     ],
     "language": "python",
     "metadata": {},
     "outputs": [],
     "prompt_number": 107
    },
    {
     "cell_type": "heading",
     "level": 4,
     "metadata": {},
     "source": [
      "We will use numpy extensively"
     ]
    },
    {
     "cell_type": "code",
     "collapsed": false,
     "input": [
      "import numpy as np"
     ],
     "language": "python",
     "metadata": {},
     "outputs": [],
     "prompt_number": 108
    },
    {
     "cell_type": "heading",
     "level": 4,
     "metadata": {},
     "source": [
      "Import the module created by swig as a classical python module"
     ]
    },
    {
     "cell_type": "code",
     "collapsed": false,
     "input": [
      "import vnrinternalenergy as vnr_ext\n"
     ],
     "language": "python",
     "metadata": {},
     "outputs": [],
     "prompt_number": 109
    },
    {
     "cell_type": "heading",
     "level": 4,
     "metadata": {},
     "source": [
      "Import classical numpy modules for performance comparison purpose"
     ]
    },
    {
     "cell_type": "code",
     "collapsed": false,
     "input": [
      "from xvof.solver.functionstosolve.vnrenergyevolutionforveformulation import VnrEnergyEvolutionForVolumeEnergyFormulation\n",
      "from xvof.solver.newtonraphson import NewtonRaphson\n",
      "from xvof.equationsofstate.miegruneisen import MieGruneisen"
     ],
     "language": "python",
     "metadata": {},
     "outputs": [],
     "prompt_number": 110
    },
    {
     "cell_type": "heading",
     "level": 2,
     "metadata": {},
     "source": [
      "Creation of the data"
     ]
    },
    {
     "cell_type": "code",
     "collapsed": false,
     "input": [
      "pb_size = 100000"
     ],
     "language": "python",
     "metadata": {},
     "outputs": [],
     "prompt_number": 111
    },
    {
     "cell_type": "code",
     "collapsed": false,
     "input": [
      "old_density = np.ndarray(pb_size, dtype=np.float64, order='c')"
     ],
     "language": "python",
     "metadata": {},
     "outputs": [],
     "prompt_number": 112
    },
    {
     "cell_type": "code",
     "collapsed": false,
     "input": [
      "new_density = np.ndarray(pb_size, dtype=np.float64, order='c')"
     ],
     "language": "python",
     "metadata": {},
     "outputs": [],
     "prompt_number": 113
    },
    {
     "cell_type": "code",
     "collapsed": false,
     "input": [
      "pressure= np.ndarray(pb_size, dtype=np.float64, order='c')"
     ],
     "language": "python",
     "metadata": {},
     "outputs": [],
     "prompt_number": 114
    },
    {
     "cell_type": "code",
     "collapsed": false,
     "input": [
      "internal_energy = np.ndarray(pb_size, dtype=np.float64, order='c')"
     ],
     "language": "python",
     "metadata": {},
     "outputs": [],
     "prompt_number": 115
    },
    {
     "cell_type": "code",
     "collapsed": false,
     "input": [
      "new_internal_energy = np.ndarray(pb_size, dtype=np.float64, order='c')"
     ],
     "language": "python",
     "metadata": {},
     "outputs": [],
     "prompt_number": 116
    },
    {
     "cell_type": "code",
     "collapsed": false,
     "input": [
      "new_pressure = np.ndarray(pb_size, dtype=np.float64, order='c')"
     ],
     "language": "python",
     "metadata": {},
     "outputs": [],
     "prompt_number": 117
    },
    {
     "cell_type": "code",
     "collapsed": false,
     "input": [
      "new_soundspeed = np.ndarray(pb_size, dtype=np.float64, order='c')"
     ],
     "language": "python",
     "metadata": {},
     "outputs": [],
     "prompt_number": 118
    },
    {
     "cell_type": "heading",
     "level": 2,
     "metadata": {},
     "source": [
      "Simple test of the module"
     ]
    },
    {
     "cell_type": "heading",
     "level": 4,
     "metadata": {},
     "source": [
      "Initialization of the data"
     ]
    },
    {
     "cell_type": "code",
     "collapsed": false,
     "input": [
      "old_density[:] = 7500."
     ],
     "language": "python",
     "metadata": {},
     "outputs": [],
     "prompt_number": 119
    },
    {
     "cell_type": "code",
     "collapsed": false,
     "input": [
      "new_density[:] = 9500."
     ],
     "language": "python",
     "metadata": {},
     "outputs": [],
     "prompt_number": 120
    },
    {
     "cell_type": "code",
     "collapsed": false,
     "input": [
      "pressure[:] = 1e+09"
     ],
     "language": "python",
     "metadata": {},
     "outputs": [],
     "prompt_number": 121
    },
    {
     "cell_type": "code",
     "collapsed": false,
     "input": [
      "internal_energy[:] = 1e+06"
     ],
     "language": "python",
     "metadata": {},
     "outputs": [],
     "prompt_number": 122
    },
    {
     "cell_type": "code",
     "collapsed": false,
     "input": [
      "new_internal_energy[:] = 0."
     ],
     "language": "python",
     "metadata": {},
     "outputs": [],
     "prompt_number": 123
    },
    {
     "cell_type": "code",
     "collapsed": false,
     "input": [
      "new_pressure[:] = 0."
     ],
     "language": "python",
     "metadata": {},
     "outputs": [],
     "prompt_number": 124
    },
    {
     "cell_type": "code",
     "collapsed": false,
     "input": [
      "new_soundspeed[:] = 0."
     ],
     "language": "python",
     "metadata": {},
     "outputs": [],
     "prompt_number": 125
    },
    {
     "cell_type": "code",
     "collapsed": false,
     "input": [
      "print new_pressure[495:505], new_internal_energy[495:505], new_soundspeed[495:505]"
     ],
     "language": "python",
     "metadata": {},
     "outputs": [
      {
       "output_type": "stream",
       "stream": "stdout",
       "text": [
        "[ 0.  0.  0.  0.  0.  0.  0.  0.  0.  0.] [ 0.  0.  0.  0.  0.  0.  0.  0.  0.  0.] [ 0.  0.  0.  0.  0.  0.  0.  0.  0.  0.]\n"
       ]
      }
     ],
     "prompt_number": 126
    },
    {
     "cell_type": "heading",
     "level": 4,
     "metadata": {},
     "source": [
      "Use the module created by swig as a classical python module"
     ]
    },
    {
     "cell_type": "code",
     "collapsed": false,
     "input": [
      "vnr_ext.launch_vnr_resolution(old_density, new_density, pressure, internal_energy, new_internal_energy, new_pressure, new_soundspeed)"
     ],
     "language": "python",
     "metadata": {},
     "outputs": [],
     "prompt_number": 127
    },
    {
     "cell_type": "code",
     "collapsed": false,
     "input": [
      "print new_pressure[495:505], new_internal_energy[495:505], new_soundspeed[495:505]"
     ],
     "language": "python",
     "metadata": {},
     "outputs": [
      {
       "output_type": "stream",
       "stream": "stdout",
       "text": [
        "[  5.10950604e+10   5.10950604e+10   5.10950604e+10   5.10950604e+10\n",
        "   5.10950604e+10   5.10950604e+10   5.10950604e+10   5.10950604e+10\n",
        "   5.10950604e+10   5.10950604e+10] [ 1731158.74241368  1731158.74241368  1731158.74241368  1731158.74241368\n",
        "  1731158.74241368  1731158.74241368  1731158.74241368  1731158.74241368\n",
        "  1731158.74241368  1731158.74241368] [ 5771.42229347  5771.42229347  5771.42229347  5771.42229347  5771.42229347\n",
        "  5771.42229347  5771.42229347  5771.42229347  5771.42229347  5771.42229347]\n"
       ]
      }
     ],
     "prompt_number": 128
    },
    {
     "cell_type": "heading",
     "level": 2,
     "metadata": {},
     "source": [
      "Test of performance of swig made module"
     ]
    },
    {
     "cell_type": "code",
     "collapsed": false,
     "input": [
      "new_internal_energy[:] = 0."
     ],
     "language": "python",
     "metadata": {},
     "outputs": [],
     "prompt_number": 129
    },
    {
     "cell_type": "code",
     "collapsed": false,
     "input": [
      "new_pressure[:] = 0."
     ],
     "language": "python",
     "metadata": {},
     "outputs": [],
     "prompt_number": 130
    },
    {
     "cell_type": "code",
     "collapsed": false,
     "input": [
      "new_soundspeed[:] = 0."
     ],
     "language": "python",
     "metadata": {},
     "outputs": [],
     "prompt_number": 131
    },
    {
     "cell_type": "code",
     "collapsed": false,
     "input": [
      "print new_pressure[495:505], new_internal_energy[495:505], new_soundspeed[495:505]"
     ],
     "language": "python",
     "metadata": {},
     "outputs": [
      {
       "output_type": "stream",
       "stream": "stdout",
       "text": [
        "[ 0.  0.  0.  0.  0.  0.  0.  0.  0.  0.] [ 0.  0.  0.  0.  0.  0.  0.  0.  0.  0.] [ 0.  0.  0.  0.  0.  0.  0.  0.  0.  0.]\n"
       ]
      }
     ],
     "prompt_number": 132
    },
    {
     "cell_type": "code",
     "collapsed": false,
     "input": [
      "%timeit vnr_ext.launch_vnr_resolution(old_density, new_density, pressure, internal_energy, new_internal_energy, new_pressure, new_soundspeed)"
     ],
     "language": "python",
     "metadata": {},
     "outputs": [
      {
       "output_type": "stream",
       "stream": "stdout",
       "text": [
        "100 loops, best of 3: 7.59 ms per loop\n"
       ]
      }
     ],
     "prompt_number": 133
    },
    {
     "cell_type": "code",
     "collapsed": false,
     "input": [
      "print new_pressure[495:505], new_internal_energy[495:505], new_soundspeed[495:505]"
     ],
     "language": "python",
     "metadata": {},
     "outputs": [
      {
       "output_type": "stream",
       "stream": "stdout",
       "text": [
        "[  5.10950604e+10   5.10950604e+10   5.10950604e+10   5.10950604e+10\n",
        "   5.10950604e+10   5.10950604e+10   5.10950604e+10   5.10950604e+10\n",
        "   5.10950604e+10   5.10950604e+10] [ 1731158.74241368  1731158.74241368  1731158.74241368  1731158.74241368\n",
        "  1731158.74241368  1731158.74241368  1731158.74241368  1731158.74241368\n",
        "  1731158.74241368  1731158.74241368] [ 5771.42229347  5771.42229347  5771.42229347  5771.42229347  5771.42229347\n",
        "  5771.42229347  5771.42229347  5771.42229347  5771.42229347  5771.42229347]\n"
       ]
      }
     ],
     "prompt_number": 134
    },
    {
     "cell_type": "heading",
     "level": 2,
     "metadata": {},
     "source": [
      "Test of performance of classical numpy module"
     ]
    },
    {
     "cell_type": "code",
     "collapsed": false,
     "input": [
      "function_to_vanish = VnrEnergyEvolutionForVolumeEnergyFormulation()\n",
      "solver = NewtonRaphson(function_to_vanish)"
     ],
     "language": "python",
     "metadata": {},
     "outputs": [],
     "prompt_number": 135
    },
    {
     "cell_type": "code",
     "collapsed": false,
     "input": [
      "my_variables = {'EquationOfState': MieGruneisen(),\n",
      "                'OldDensity': old_density,\n",
      "                'NewDensity': new_density,\n",
      "                'Pressure': pressure,\n",
      "                'OldEnergy': internal_energy}"
     ],
     "language": "python",
     "metadata": {},
     "outputs": [],
     "prompt_number": 136
    },
    {
     "cell_type": "code",
     "collapsed": false,
     "input": [
      "function_to_vanish.setVariables(my_variables)\n"
     ],
     "language": "python",
     "metadata": {},
     "outputs": [],
     "prompt_number": 137
    },
    {
     "cell_type": "code",
     "collapsed": false,
     "input": [
      "%timeit reference_solution = solver.computeSolution(internal_energy)"
     ],
     "language": "python",
     "metadata": {},
     "outputs": [
      {
       "output_type": "stream",
       "stream": "stdout",
       "text": [
        "10 loops, best of 3: 40.9 ms per loop\n"
       ]
      }
     ],
     "prompt_number": 138
    },
    {
     "cell_type": "code",
     "collapsed": false,
     "input": [
      "reference_solution = solver.computeSolution(internal_energy)\n",
      "print reference_solution[495:505]"
     ],
     "language": "python",
     "metadata": {},
     "outputs": [
      {
       "output_type": "stream",
       "stream": "stdout",
       "text": [
        "[ 1731158.74241368  1731158.74241368  1731158.74241368  1731158.74241368\n",
        "  1731158.74241368  1731158.74241368  1731158.74241368  1731158.74241368\n",
        "  1731158.74241368  1731158.74241368]\n"
       ]
      }
     ],
     "prompt_number": 139
    },
    {
     "cell_type": "heading",
     "level": 2,
     "metadata": {},
     "source": [
      "Test of behavior in case of wrong inputs"
     ]
    },
    {
     "cell_type": "code",
     "collapsed": false,
     "input": [
      "wrong_sized_density = np.ndarray(999, dtype=np.float64, order='c')"
     ],
     "language": "python",
     "metadata": {},
     "outputs": [],
     "prompt_number": 140
    },
    {
     "cell_type": "code",
     "collapsed": false,
     "input": [
      "wrong_sized_density[:] = 9500."
     ],
     "language": "python",
     "metadata": {},
     "outputs": [],
     "prompt_number": 141
    },
    {
     "cell_type": "code",
     "collapsed": false,
     "input": [
      "new_internal_energy[:] = 0."
     ],
     "language": "python",
     "metadata": {},
     "outputs": [],
     "prompt_number": 142
    },
    {
     "cell_type": "code",
     "collapsed": false,
     "input": [
      "new_pressure[:] = 0."
     ],
     "language": "python",
     "metadata": {},
     "outputs": [],
     "prompt_number": 143
    },
    {
     "cell_type": "code",
     "collapsed": false,
     "input": [
      "new_soundspeed[:] = 0."
     ],
     "language": "python",
     "metadata": {},
     "outputs": [],
     "prompt_number": 144
    },
    {
     "cell_type": "code",
     "collapsed": false,
     "input": [
      "#print new_pressure[495:505], new_internal_energy[495:505], new_soundspeed[495:505]"
     ],
     "language": "python",
     "metadata": {},
     "outputs": [],
     "prompt_number": 145
    },
    {
     "cell_type": "code",
     "collapsed": false,
     "input": [
      "#vnr_ext.launch_vnr_resolution(old_density, wrong_sized_density, pressure, internal_energy, new_internal_energy, new_pressure, new_soundspeed)"
     ],
     "language": "python",
     "metadata": {},
     "outputs": [],
     "prompt_number": 146
    }
   ],
   "metadata": {}
  }
 ]
}