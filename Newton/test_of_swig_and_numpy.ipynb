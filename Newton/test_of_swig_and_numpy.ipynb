{
 "metadata": {
  "name": "",
  "signature": "sha256:9a1d26ca19e462c697a0ffe267fc91cd6ae9386c955bcd4f844e7bd36e9300cf"
 },
 "nbformat": 3,
 "nbformat_minor": 0,
 "worksheets": [
  {
   "cells": [
    {
     "cell_type": "heading",
     "level": 1,
     "metadata": {},
     "source": [
      "Use of swig and numpy to compute the evolution of internal energy in a vNR scheme"
     ]
    },
    {
     "cell_type": "code",
     "collapsed": false,
     "input": [
      "import os"
     ],
     "language": "python",
     "metadata": {},
     "outputs": [],
     "prompt_number": 1
    },
    {
     "cell_type": "heading",
     "level": 4,
     "metadata": {},
     "source": [
      "We will use numpy extensively"
     ]
    },
    {
     "cell_type": "code",
     "collapsed": false,
     "input": [
      "import numpy as np"
     ],
     "language": "python",
     "metadata": {},
     "outputs": [],
     "prompt_number": 2
    },
    {
     "cell_type": "heading",
     "level": 4,
     "metadata": {},
     "source": [
      "Import the module created by swig as a classical python module"
     ]
    },
    {
     "cell_type": "code",
     "collapsed": false,
     "input": [
      "import vnrinternalenergy as vnr_ext\n"
     ],
     "language": "python",
     "metadata": {},
     "outputs": [],
     "prompt_number": 3
    },
    {
     "cell_type": "heading",
     "level": 4,
     "metadata": {},
     "source": [
      "Import classical numpy modules for performance comparison purpose"
     ]
    },
    {
     "cell_type": "code",
     "collapsed": false,
     "input": [
      "from xvof.solver.functionstosolve.vnrenergyevolutionforveformulation import VnrEnergyEvolutionForVolumeEnergyFormulation\n",
      "from xvof.solver.newtonraphson import NewtonRaphson\n",
      "from xvof.equationsofstate.miegruneisen import MieGruneisen"
     ],
     "language": "python",
     "metadata": {},
     "outputs": [],
     "prompt_number": 4
    },
    {
     "cell_type": "heading",
     "level": 2,
     "metadata": {},
     "source": [
      "Creation of the data"
     ]
    },
    {
     "cell_type": "code",
     "collapsed": false,
     "input": [
      "pb_size = 100000"
     ],
     "language": "python",
     "metadata": {},
     "outputs": [],
     "prompt_number": 5
    },
    {
     "cell_type": "code",
     "collapsed": false,
     "input": [
      "old_density = np.ndarray(pb_size, dtype=np.float64, order='c')"
     ],
     "language": "python",
     "metadata": {},
     "outputs": [],
     "prompt_number": 6
    },
    {
     "cell_type": "code",
     "collapsed": false,
     "input": [
      "new_density = np.ndarray(pb_size, dtype=np.float64, order='c')"
     ],
     "language": "python",
     "metadata": {},
     "outputs": [],
     "prompt_number": 7
    },
    {
     "cell_type": "code",
     "collapsed": false,
     "input": [
      "pressure= np.ndarray(pb_size, dtype=np.float64, order='c')"
     ],
     "language": "python",
     "metadata": {},
     "outputs": [],
     "prompt_number": 8
    },
    {
     "cell_type": "code",
     "collapsed": false,
     "input": [
      "internal_energy = np.ndarray(pb_size, dtype=np.float64, order='c')"
     ],
     "language": "python",
     "metadata": {},
     "outputs": [],
     "prompt_number": 9
    },
    {
     "cell_type": "code",
     "collapsed": false,
     "input": [
      "new_internal_energy = np.ndarray(pb_size, dtype=np.float64, order='c')"
     ],
     "language": "python",
     "metadata": {},
     "outputs": [],
     "prompt_number": 10
    },
    {
     "cell_type": "code",
     "collapsed": false,
     "input": [
      "new_pressure = np.ndarray(pb_size, dtype=np.float64, order='c')"
     ],
     "language": "python",
     "metadata": {},
     "outputs": [],
     "prompt_number": 11
    },
    {
     "cell_type": "code",
     "collapsed": false,
     "input": [
      "new_soundspeed = np.ndarray(pb_size, dtype=np.float64, order='c')"
     ],
     "language": "python",
     "metadata": {},
     "outputs": [],
     "prompt_number": 12
    },
    {
     "cell_type": "heading",
     "level": 2,
     "metadata": {},
     "source": [
      "Simple test of the module"
     ]
    },
    {
     "cell_type": "heading",
     "level": 4,
     "metadata": {},
     "source": [
      "Initialization of the data"
     ]
    },
    {
     "cell_type": "code",
     "collapsed": false,
     "input": [
      "old_density[:] = 7500."
     ],
     "language": "python",
     "metadata": {},
     "outputs": [],
     "prompt_number": 13
    },
    {
     "cell_type": "code",
     "collapsed": false,
     "input": [
      "new_density[:] = 9500."
     ],
     "language": "python",
     "metadata": {},
     "outputs": [],
     "prompt_number": 14
    },
    {
     "cell_type": "code",
     "collapsed": false,
     "input": [
      "pressure[:] = 1e+09"
     ],
     "language": "python",
     "metadata": {},
     "outputs": [],
     "prompt_number": 15
    },
    {
     "cell_type": "code",
     "collapsed": false,
     "input": [
      "internal_energy[:] = 1e+06"
     ],
     "language": "python",
     "metadata": {},
     "outputs": [],
     "prompt_number": 16
    },
    {
     "cell_type": "code",
     "collapsed": false,
     "input": [
      "new_internal_energy[:] = 0."
     ],
     "language": "python",
     "metadata": {},
     "outputs": [],
     "prompt_number": 17
    },
    {
     "cell_type": "code",
     "collapsed": false,
     "input": [
      "new_pressure[:] = 0."
     ],
     "language": "python",
     "metadata": {},
     "outputs": [],
     "prompt_number": 18
    },
    {
     "cell_type": "code",
     "collapsed": false,
     "input": [
      "new_soundspeed[:] = 0."
     ],
     "language": "python",
     "metadata": {},
     "outputs": [],
     "prompt_number": 19
    },
    {
     "cell_type": "code",
     "collapsed": false,
     "input": [
      "print new_pressure[495:505], new_internal_energy[495:505], new_soundspeed[495:505]"
     ],
     "language": "python",
     "metadata": {},
     "outputs": [
      {
       "output_type": "stream",
       "stream": "stdout",
       "text": [
        "[ 0.  0.  0.  0.  0.  0.  0.  0.  0.  0.] [ 0.  0.  0.  0.  0.  0.  0.  0.  0.  0.] [ 0.  0.  0.  0.  0.  0.  0.  0.  0.  0.]\n"
       ]
      }
     ],
     "prompt_number": 20
    },
    {
     "cell_type": "heading",
     "level": 4,
     "metadata": {},
     "source": [
      "Use the module created by swig as a classical python module"
     ]
    },
    {
     "cell_type": "code",
     "collapsed": false,
     "input": [
      "vnr_ext.launch_vnr_resolution(old_density, new_density, pressure, internal_energy, new_internal_energy, new_pressure, new_soundspeed)"
     ],
     "language": "python",
     "metadata": {},
     "outputs": [],
     "prompt_number": 21
    },
    {
     "cell_type": "code",
     "collapsed": false,
     "input": [
      "print new_pressure[495:505], new_internal_energy[495:505], new_soundspeed[495:505]"
     ],
     "language": "python",
     "metadata": {},
     "outputs": [
      {
       "output_type": "stream",
       "stream": "stdout",
       "text": [
        "[  5.10950604e+10   5.10950604e+10   5.10950604e+10   5.10950604e+10\n",
        "   5.10950604e+10   5.10950604e+10   5.10950604e+10   5.10950604e+10\n",
        "   5.10950604e+10   5.10950604e+10] [ 1731158.74241368  1731158.74241368  1731158.74241368  1731158.74241368\n",
        "  1731158.74241368  1731158.74241368  1731158.74241368  1731158.74241368\n",
        "  1731158.74241368  1731158.74241368] [ 5771.42229347  5771.42229347  5771.42229347  5771.42229347  5771.42229347\n",
        "  5771.42229347  5771.42229347  5771.42229347  5771.42229347  5771.42229347]\n"
       ]
      }
     ],
     "prompt_number": 22
    },
    {
     "cell_type": "heading",
     "level": 2,
     "metadata": {},
     "source": [
      "Test of performance of swig made module"
     ]
    },
    {
     "cell_type": "code",
     "collapsed": false,
     "input": [
      "new_internal_energy[:] = 0."
     ],
     "language": "python",
     "metadata": {},
     "outputs": [],
     "prompt_number": 23
    },
    {
     "cell_type": "code",
     "collapsed": false,
     "input": [
      "new_pressure[:] = 0."
     ],
     "language": "python",
     "metadata": {},
     "outputs": [],
     "prompt_number": 24
    },
    {
     "cell_type": "code",
     "collapsed": false,
     "input": [
      "new_soundspeed[:] = 0."
     ],
     "language": "python",
     "metadata": {},
     "outputs": [],
     "prompt_number": 25
    },
    {
     "cell_type": "code",
     "collapsed": false,
     "input": [
      "print new_pressure[495:505], new_internal_energy[495:505], new_soundspeed[495:505]"
     ],
     "language": "python",
     "metadata": {},
     "outputs": [
      {
       "output_type": "stream",
       "stream": "stdout",
       "text": [
        "[ 0.  0.  0.  0.  0.  0.  0.  0.  0.  0.] [ 0.  0.  0.  0.  0.  0.  0.  0.  0.  0.] [ 0.  0.  0.  0.  0.  0.  0.  0.  0.  0.]\n"
       ]
      }
     ],
     "prompt_number": 26
    },
    {
     "cell_type": "code",
     "collapsed": false,
     "input": [
      "%timeit vnr_ext.launch_vnr_resolution(old_density, new_density, pressure, internal_energy, new_internal_energy, new_pressure, new_soundspeed)"
     ],
     "language": "python",
     "metadata": {},
     "outputs": [
      {
       "output_type": "stream",
       "stream": "stdout",
       "text": [
        "100 loops, best of 3: 9.43 ms per loop\n"
       ]
      }
     ],
     "prompt_number": 27
    },
    {
     "cell_type": "code",
     "collapsed": false,
     "input": [
      "print new_pressure[495:505], new_internal_energy[495:505], new_soundspeed[495:505]"
     ],
     "language": "python",
     "metadata": {},
     "outputs": [
      {
       "output_type": "stream",
       "stream": "stdout",
       "text": [
        "[  5.10950604e+10   5.10950604e+10   5.10950604e+10   5.10950604e+10\n",
        "   5.10950604e+10   5.10950604e+10   5.10950604e+10   5.10950604e+10\n",
        "   5.10950604e+10   5.10950604e+10] [ 1731158.74241368  1731158.74241368  1731158.74241368  1731158.74241368\n",
        "  1731158.74241368  1731158.74241368  1731158.74241368  1731158.74241368\n",
        "  1731158.74241368  1731158.74241368] [ 5771.42229347  5771.42229347  5771.42229347  5771.42229347  5771.42229347\n",
        "  5771.42229347  5771.42229347  5771.42229347  5771.42229347  5771.42229347]\n"
       ]
      }
     ],
     "prompt_number": 28
    },
    {
     "cell_type": "heading",
     "level": 2,
     "metadata": {},
     "source": [
      "Test of performance of classical numpy module"
     ]
    },
    {
     "cell_type": "code",
     "collapsed": false,
     "input": [
      "function_to_vanish = VnrEnergyEvolutionForVolumeEnergyFormulation()\n",
      "solver = NewtonRaphson(function_to_vanish)"
     ],
     "language": "python",
     "metadata": {},
     "outputs": [],
     "prompt_number": 29
    },
    {
     "cell_type": "code",
     "collapsed": false,
     "input": [
      "my_variables = {'EquationOfState': MieGruneisen(),\n",
      "                'OldDensity': old_density,\n",
      "                'NewDensity': new_density,\n",
      "                'Pressure': pressure,\n",
      "                'OldEnergy': internal_energy}"
     ],
     "language": "python",
     "metadata": {},
     "outputs": [],
     "prompt_number": 30
    },
    {
     "cell_type": "code",
     "collapsed": false,
     "input": [
      "function_to_vanish.setVariables(my_variables)\n"
     ],
     "language": "python",
     "metadata": {},
     "outputs": [],
     "prompt_number": 31
    },
    {
     "cell_type": "code",
     "collapsed": false,
     "input": [
      "%timeit reference_solution = solver.computeSolution(internal_energy)"
     ],
     "language": "python",
     "metadata": {},
     "outputs": [
      {
       "output_type": "stream",
       "stream": "stdout",
       "text": [
        "10 loops, best of 3: 42.8 ms per loop\n"
       ]
      }
     ],
     "prompt_number": 32
    },
    {
     "cell_type": "code",
     "collapsed": false,
     "input": [
      "reference_solution = solver.computeSolution(internal_energy)\n",
      "print reference_solution[495:505]"
     ],
     "language": "python",
     "metadata": {},
     "outputs": [
      {
       "output_type": "stream",
       "stream": "stdout",
       "text": [
        "[ 1731158.74241368  1731158.74241368  1731158.74241368  1731158.74241368\n",
        "  1731158.74241368  1731158.74241368  1731158.74241368  1731158.74241368\n",
        "  1731158.74241368  1731158.74241368]\n"
       ]
      }
     ],
     "prompt_number": 33
    },
    {
     "cell_type": "heading",
     "level": 2,
     "metadata": {},
     "source": [
      "Test of behavior in case of wrong inputs"
     ]
    },
    {
     "cell_type": "code",
     "collapsed": false,
     "input": [
      "wrong_sized_density = np.ndarray(999, dtype=np.float64, order='c')"
     ],
     "language": "python",
     "metadata": {},
     "outputs": [],
     "prompt_number": 34
    },
    {
     "cell_type": "code",
     "collapsed": false,
     "input": [
      "wrong_sized_density[:] = 9500."
     ],
     "language": "python",
     "metadata": {},
     "outputs": [],
     "prompt_number": 35
    },
    {
     "cell_type": "code",
     "collapsed": false,
     "input": [
      "new_internal_energy[:] = 0."
     ],
     "language": "python",
     "metadata": {},
     "outputs": [],
     "prompt_number": 36
    },
    {
     "cell_type": "code",
     "collapsed": false,
     "input": [
      "new_pressure[:] = 0."
     ],
     "language": "python",
     "metadata": {},
     "outputs": [],
     "prompt_number": 37
    },
    {
     "cell_type": "code",
     "collapsed": false,
     "input": [
      "new_soundspeed[:] = 0."
     ],
     "language": "python",
     "metadata": {},
     "outputs": [],
     "prompt_number": 38
    },
    {
     "cell_type": "code",
     "collapsed": false,
     "input": [
      "#print new_pressure[495:505], new_internal_energy[495:505], new_soundspeed[495:505]"
     ],
     "language": "python",
     "metadata": {},
     "outputs": [],
     "prompt_number": 39
    },
    {
     "cell_type": "code",
     "collapsed": false,
     "input": [
      "#vnr_ext.launch_vnr_resolution(old_density, wrong_sized_density, pressure, internal_energy, new_internal_energy, new_pressure, new_soundspeed)"
     ],
     "language": "python",
     "metadata": {},
     "outputs": [],
     "prompt_number": 40
    }
   ],
   "metadata": {}
  }
 ]
}